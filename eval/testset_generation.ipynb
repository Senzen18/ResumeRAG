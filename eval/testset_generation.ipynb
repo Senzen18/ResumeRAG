{
 "cells": [
  {
   "cell_type": "code",
   "execution_count": 3,
   "metadata": {},
   "outputs": [],
   "source": [
    "import pandas as pd\n",
    "import re"
   ]
  },
  {
   "cell_type": "code",
   "execution_count": null,
   "metadata": {},
   "outputs": [
    {
     "data": {
      "text/html": [
       "<div>\n",
       "<style scoped>\n",
       "    .dataframe tbody tr th:only-of-type {\n",
       "        vertical-align: middle;\n",
       "    }\n",
       "\n",
       "    .dataframe tbody tr th {\n",
       "        vertical-align: top;\n",
       "    }\n",
       "\n",
       "    .dataframe thead th {\n",
       "        text-align: right;\n",
       "    }\n",
       "</style>\n",
       "<table border=\"1\" class=\"dataframe\">\n",
       "  <thead>\n",
       "    <tr style=\"text-align: right;\">\n",
       "      <th></th>\n",
       "      <th>Unnamed: 0</th>\n",
       "      <th>Job Title</th>\n",
       "      <th>Job Description</th>\n",
       "    </tr>\n",
       "  </thead>\n",
       "  <tbody>\n",
       "    <tr>\n",
       "      <th>0</th>\n",
       "      <td>0</td>\n",
       "      <td>Flutter Developer</td>\n",
       "      <td>We are looking for hire experts flutter develo...</td>\n",
       "    </tr>\n",
       "    <tr>\n",
       "      <th>1</th>\n",
       "      <td>1</td>\n",
       "      <td>Django Developer</td>\n",
       "      <td>PYTHON/DJANGO (Developer/Lead) - Job Code(PDJ ...</td>\n",
       "    </tr>\n",
       "    <tr>\n",
       "      <th>2</th>\n",
       "      <td>2</td>\n",
       "      <td>Machine Learning</td>\n",
       "      <td>Data Scientist (Contractor)\\n\\nBangalore, IN\\n...</td>\n",
       "    </tr>\n",
       "    <tr>\n",
       "      <th>3</th>\n",
       "      <td>3</td>\n",
       "      <td>iOS Developer</td>\n",
       "      <td>JOB DESCRIPTION:\\n\\nStrong framework outside o...</td>\n",
       "    </tr>\n",
       "    <tr>\n",
       "      <th>4</th>\n",
       "      <td>4</td>\n",
       "      <td>Full Stack Developer</td>\n",
       "      <td>job responsibility full stack engineer – react...</td>\n",
       "    </tr>\n",
       "  </tbody>\n",
       "</table>\n",
       "</div>"
      ],
      "text/plain": [
       "   Unnamed: 0             Job Title  \\\n",
       "0           0     Flutter Developer   \n",
       "1           1      Django Developer   \n",
       "2           2      Machine Learning   \n",
       "3           3         iOS Developer   \n",
       "4           4  Full Stack Developer   \n",
       "\n",
       "                                     Job Description  \n",
       "0  We are looking for hire experts flutter develo...  \n",
       "1  PYTHON/DJANGO (Developer/Lead) - Job Code(PDJ ...  \n",
       "2  Data Scientist (Contractor)\\n\\nBangalore, IN\\n...  \n",
       "3  JOB DESCRIPTION:\\n\\nStrong framework outside o...  \n",
       "4  job responsibility full stack engineer – react...  "
      ]
     },
     "execution_count": 4,
     "metadata": {},
     "output_type": "execute_result"
    }
   ],
   "source": [
    "df = pd.read_csv('..eval_data/job_title_des.csv')\n",
    "df.head()"
   ]
  },
  {
   "cell_type": "code",
   "execution_count": 5,
   "metadata": {},
   "outputs": [
    {
     "name": "stdout",
     "output_type": "stream",
     "text": [
      "<class 'pandas.core.frame.DataFrame'>\n",
      "RangeIndex: 2277 entries, 0 to 2276\n",
      "Data columns (total 3 columns):\n",
      " #   Column           Non-Null Count  Dtype \n",
      "---  ------           --------------  ----- \n",
      " 0   Unnamed: 0       2277 non-null   int64 \n",
      " 1   Job Title        2277 non-null   object\n",
      " 2   Job Description  2277 non-null   object\n",
      "dtypes: int64(1), object(2)\n",
      "memory usage: 53.5+ KB\n"
     ]
    }
   ],
   "source": [
    "df.info()"
   ]
  },
  {
   "cell_type": "code",
   "execution_count": 6,
   "metadata": {},
   "outputs": [
    {
     "data": {
      "text/plain": [
       "(0, 0)"
      ]
     },
     "execution_count": 6,
     "metadata": {},
     "output_type": "execute_result"
    }
   ],
   "source": [
    "df.drop(columns=['Unnamed: 0'])\n",
    "\n",
    "sum(df['Job Title'].isna()),sum(df[\"Job Description\"].isna())\n"
   ]
  },
  {
   "cell_type": "code",
   "execution_count": 7,
   "metadata": {},
   "outputs": [],
   "source": [
    "\n",
    "df[\"Job Description\"] = df[\"Job Description\"].apply(lambda row: re.sub(r\"\\t\", r\"\", row).strip())\n",
    "df[\"Job Description\"] = df[\"Job Description\"].apply(lambda row: re.sub(r\"(\\n|\\r)+\", r\"\\n\", row).strip())\n",
    "df[\"Job Description\"] = df[\"Job Description\"].apply(lambda row: re.sub(r\" +\", r\" \", row).strip())"
   ]
  },
  {
   "cell_type": "code",
   "execution_count": 8,
   "metadata": {},
   "outputs": [],
   "source": [
    "df_sample = df.sample(500,random_state=3)\n",
    "df_sample.to_csv('../eval_data/job_descriptions_500.csv')"
   ]
  },
  {
   "cell_type": "markdown",
   "metadata": {},
   "source": [
    "## Creating Synthetic Resumes from the Job descriptions"
   ]
  },
  {
   "cell_type": "code",
   "execution_count": 1,
   "metadata": {},
   "outputs": [],
   "source": [
    "\n",
    "from langchain_openai import ChatOpenAI\n",
    "from langchain.schema import HumanMessage, SystemMessage\n",
    "from langchain.agents.output_parsers import OpenAIFunctionsAgentOutputParser\n",
    "from langchain_core.prompts import ChatPromptTemplate\n",
    "import pandas as pd\n",
    "from typing import Literal, Optional, Tuple\n",
    "from pydantic import BaseModel, Field"
   ]
  },
  {
   "cell_type": "code",
   "execution_count": null,
   "metadata": {},
   "outputs": [],
   "source": [
    "llm = ChatOpenAI(\n",
    "    model = \"gpt-4o-mini\",\n",
    "    api_key= ''\n",
    ")"
   ]
  },
  {
   "cell_type": "code",
   "execution_count": 195,
   "metadata": {},
   "outputs": [],
   "source": [
    "df = pd.read_csv('../eval_data/job_descriptions_500.csv')\n",
    "job_titles = list(df['Job Title'])\n",
    "job_descriptions = list(df['Job Description'])\n",
    "job_descriptions_list = []\n",
    "for i in range(len(job_titles)):\n",
    "    job_descriptions_list.append(job_titles[i] + \"\\n\" + job_descriptions[i])\n"
   ]
  },
  {
   "cell_type": "code",
   "execution_count": 196,
   "metadata": {},
   "outputs": [],
   "source": [
    "job_descriptions_list = job_descriptions_list[400:500]"
   ]
  },
  {
   "cell_type": "code",
   "execution_count": 197,
   "metadata": {},
   "outputs": [
    {
     "data": {
      "text/plain": [
       "100"
      ]
     },
     "execution_count": 197,
     "metadata": {},
     "output_type": "execute_result"
    }
   ],
   "source": [
    "len(job_descriptions_list)"
   ]
  },
  {
   "cell_type": "code",
   "execution_count": 198,
   "metadata": {},
   "outputs": [],
   "source": [
    "class ResumeContainer(BaseModel):\n",
    "    \"\"\"Contains 2 resumes generated from job description\"\"\"\n",
    "    perfect_match: str = Field(..., \n",
    "                        description=\"Resume which is perfect match to the given job description.\")\n",
    "    slightly_relevant: str = Field(..., \n",
    "                        description=\"Resume which is slightly relevant to the given job description.\")"
   ]
  },
  {
   "cell_type": "code",
   "execution_count": 199,
   "metadata": {},
   "outputs": [],
   "source": [
    "llm_generated_response = []\n",
    "system_message = \"\"\"You are an AI assistant that generates Resumes given specific job description.\n",
    "                  Generate 2 resumes for each job description so that one of the resume is an perfect match, while other is only slightly relevant.\n",
    "                  Use a combination of skills, different industry/project work experience, education, and certifications to produce resume data.\n",
    "                  You may add some KPIs to make work experience realistic.\n",
    "                  Do not include any note or explanation of how you generate the resumes.\n",
    "                  Structure it like a real resume. Having appropriate headings and content.\n",
    "                  Make up your own information for personal info. \"\"\"\n",
    "\n",
    "for jobs in job_descriptions_list:\n",
    "    user_message =\"\"\"\n",
    "    Here is the Job Description (Note that all required skills may not be present in resume and some nonrelevant details can be present.\n",
    "     The length of a resume should only be between 200 and 500 words. \n",
    "    {jobs}\"\"\" \n",
    "    prompt = ChatPromptTemplate.from_messages(\n",
    "    [\n",
    "        ('system',system_message),\n",
    "        ('human',user_message)\n",
    "    ]\n",
    ")\n",
    "    structured_llm = llm.with_structured_output(ResumeContainer)\n",
    "    response =  structured_llm.invoke(jobs) \n",
    "    #response = chain.invoke([user_message,system_message])\n",
    "    llm_generated_response.append(response)\n",
    "                                   \n"
   ]
  },
  {
   "cell_type": "code",
   "execution_count": 200,
   "metadata": {},
   "outputs": [],
   "source": [
    "ground_truth_resumes = []\n",
    "generated_resumes = []\n",
    "for response in llm_generated_response:\n",
    "    ground_truth_resumes.append(response.perfect_match.replace(\"*\",\"\"))\n",
    "    generated_resumes.append(response.perfect_match.replace(\"*\",\"\"))\n",
    "    generated_resumes.append(response.slightly_relevant.replace(\"*\",\"\"))\n",
    "\n"
   ]
  },
  {
   "cell_type": "code",
   "execution_count": 201,
   "metadata": {},
   "outputs": [
    {
     "data": {
      "text/plain": [
       "(100, 100)"
      ]
     },
     "execution_count": 201,
     "metadata": {},
     "output_type": "execute_result"
    }
   ],
   "source": [
    "len(job_descriptions_list),len(ground_truth_resumes)"
   ]
  },
  {
   "cell_type": "code",
   "execution_count": 202,
   "metadata": {},
   "outputs": [],
   "source": [
    "test_df = pd.DataFrame({'Job Description':job_descriptions_list,\"Ground Truth\":ground_truth_resumes})\n",
    "test_df.to_csv('../eval_data/test_df_5.csv')\n",
    "generated_df = pd.DataFrame({'Resumes':generated_resumes})\n",
    "generated_df.to_csv('../eval_data/generated_df_5.csv')"
   ]
  },
  {
   "cell_type": "code",
   "execution_count": 16,
   "metadata": {},
   "outputs": [],
   "source": [
    "gen1 = pd.read_csv('../eval_data/synthetic_dataset/generated_df_1.csv')\n",
    "gen2 = pd.read_csv('../eval_data/synthetic_dataset/generated_df_2.csv')\n",
    "gen3 = pd.read_csv('../eval_data/synthetic_dataset/generated_df_3.csv')\n",
    "gen4 = pd.read_csv('../eval_data/synthetic_dataset/generated_df_4.csv')\n",
    "gen5 = pd.read_csv('../eval_data/synthetic_dataset/generated_df_5.csv')\n",
    "\n"
   ]
  },
  {
   "cell_type": "code",
   "execution_count": 17,
   "metadata": {},
   "outputs": [],
   "source": [
    "final_gen = pd.concat([gen1, gen2, gen3, gen4, gen5], axis=0).drop(columns=['Unnamed: 0'])"
   ]
  },
  {
   "cell_type": "code",
   "execution_count": 19,
   "metadata": {},
   "outputs": [],
   "source": [
    "final_gen.to_csv('../eval_data/main_data/combined_generated_df.csv')"
   ]
  },
  {
   "cell_type": "code",
   "execution_count": null,
   "metadata": {},
   "outputs": [],
   "source": []
  },
  {
   "cell_type": "code",
   "execution_count": null,
   "metadata": {},
   "outputs": [],
   "source": []
  }
 ],
 "metadata": {
  "kernelspec": {
   "display_name": "RAG",
   "language": "python",
   "name": "python3"
  },
  "language_info": {
   "codemirror_mode": {
    "name": "ipython",
    "version": 3
   },
   "file_extension": ".py",
   "mimetype": "text/x-python",
   "name": "python",
   "nbconvert_exporter": "python",
   "pygments_lexer": "ipython3",
   "version": "3.11.11"
  }
 },
 "nbformat": 4,
 "nbformat_minor": 2
}
